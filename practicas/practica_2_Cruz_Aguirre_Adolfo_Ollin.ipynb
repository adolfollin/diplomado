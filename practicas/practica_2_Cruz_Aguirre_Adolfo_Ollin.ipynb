{
    "cells": [
        {
            "cell_type": "markdown",
            "metadata": {
                "collapsed": true
            },
            "source": "# Pr\u00e1ctica 2"
        },
        {
            "cell_type": "markdown",
            "metadata": {},
            "source": "Este notebook esta dedicado a resolver los ejercicios de la pr\u00e1ctica 2 del Diplomado de Ciencia de Datos en la Facultad de Estudios Superiores Acatl\u00e1n."
        },
        {
            "cell_type": "markdown",
            "metadata": {},
            "source": "## Paqueter\u00edas"
        },
        {
            "cell_type": "code",
            "execution_count": 1,
            "metadata": {},
            "outputs": [],
            "source": "#import nltk\n#nltk.download('stopwords')\n#!pip install textblob"
        },
        {
            "cell_type": "code",
            "execution_count": 2,
            "metadata": {},
            "outputs": [],
            "source": "#!pip install cufflinks\n#import cufflinks as cf\n#cf.go_offline()\n#cf.set_config_file(offline=False, world_readable=True)"
        },
        {
            "cell_type": "code",
            "execution_count": 3,
            "metadata": {},
            "outputs": [],
            "source": "import ibm_boto3\nfrom botocore.client import Config\nimport pandas as pd\nfrom datetime import datetime\nimport re\n#from unidecode import unidecode\nimport unicodedata\nfrom nltk.corpus import stopwords\nfrom nltk.stem import SnowballStemmer\nfrom textblob import TextBlob\nfrom sklearn.feature_extraction.text import TfidfVectorizer\nimport nltk\nimport numpy as np"
        },
        {
            "cell_type": "markdown",
            "metadata": {},
            "source": "## Datos"
        },
        {
            "cell_type": "markdown",
            "metadata": {},
            "source": "1. Exporta una conversaci\u00f3n entre dos personas de Whatsapp, la forma de exportarla como txt es la siguiente: Primero seleccionas la opci\u00f3n \"M\u00e1s\" sobre tu conversaci\u00f3n , posteriormente seleccionas la opci\u00f3n de \"Exportar chat\" y finalmente eliges la opci\u00f3n \"SIN ARCHIVOS\", de esta forma se exporta la conversaci\u00f3n en .txt a alg\u00fan correo."
        },
        {
            "cell_type": "markdown",
            "metadata": {},
            "source": "<font color='#800000'> La conversaci\u00f3n fue bajada y depositada en un Cloud Object Storage, las siguientes tres celdas estan dedicadas a obtener los datos y no puden ser accesados sin las credenciales, por lo cual se puede omitir estas celdas. </font>"
        },
        {
            "cell_type": "code",
            "execution_count": 4,
            "metadata": {},
            "outputs": [],
            "source": "# The code was removed by Watson Studio for sharing."
        },
        {
            "cell_type": "code",
            "execution_count": 5,
            "metadata": {},
            "outputs": [],
            "source": "cos = ibm_boto3.client(service_name='s3',\n    ibm_api_key_id=credentials_cos[\"IBM_API_KEY_ID\"] ,\n    ibm_auth_endpoint=credentials_cos[\"IBM_AUTH_ENDPOINT\"],\n    config=Config(signature_version='oauth'),\n    endpoint_url=credentials_cos[\"ENDPOINT\"])"
        },
        {
            "cell_type": "code",
            "execution_count": 6,
            "metadata": {},
            "outputs": [],
            "source": "cos.download_file('diplomadocienciadedatos-donotdelete-pr-ni0xvyxds7qosj', 'WhatsApp Chat with Isaac Carrada, Elbuenizzy.txt', 'conversacion_con_Elbuenizzy.txt')"
        },
        {
            "cell_type": "markdown",
            "metadata": {},
            "source": "2. El documento con extensi\u00f3n .txt transformar en un DataFrame de la siguiente forma:"
        },
        {
            "cell_type": "code",
            "execution_count": 7,
            "metadata": {},
            "outputs": [],
            "source": "def read_whatsapp_conversation(data):\n    '''\n    Read the data of a Whatsapp conversation where the information was download in a txt file and tranform the data to a DataFrame.\n    \n    Parameters:\n    \n    data: str, Route where is the file\n    \n    Author: Adolfo Cruz\n    Contact: adolfo.ollin@gmail.com\n    \n    '''\n    # Read data  \n    aux = open('conversacion_con_Elbuenizzy.txt')\n    text_all_conversations = aux.read().replace(\"\\n\", \" \")\n\n    dates_and_messagues_list = re.split(pattern='(\\d+/\\d+/\\d+, \\d+:\\d+ )', string=text_all_conversations)[1:]\n\n    messagues_list = []\n    for k in range(0,len(dates_and_messagues_list),2):\n        messagues_list.append(dates_and_messagues_list[k] + dates_and_messagues_list[k+1])\n    \n    # Defining the columns\n    d_fecha = []\n    v_hora = []\n    t_texto = []\n    v_usuario = []\n    \n    errs = []\n    \n    def clean_text(text, pattern=\"[^a-zA-Z0-9 ]\"):\n        cleaned_text = unicodedata.normalize('NFD', text).encode('ascii', 'ignore')\n        cleaned_text = re.sub(pattern, \" \", cleaned_text.decode(\"utf-8\"), flags=re.UNICODE)\n        cleaned_text = u' '.join(cleaned_text.lower().strip().split())\n        return cleaned_text\n    \n    for line in messagues_list[1:]:\n        try:\n            aux_date, aux_text = line.split('-',1)\n            date = datetime.strptime(aux_date, '%m/%d/%y, %I:%M %p ')\n            \n            name, text = aux_text.split(':',1)\n            name = clean_text(name)\n            text = clean_text(text)\n            \n\n            d_fecha.append(date)\n            v_hora.append(date.hour)\n            t_texto.append(text)\n            v_usuario.append(name)\n        \n        except ValueError:\n            #print(line)\n            #We can review the particular errors to see the way how we can handle\n            errs.append(line)\n        \n            \n            \n\n    dic_aux = {'d_fecha': d_fecha, 'v_hora': v_hora, 't_texto':t_texto, 'v_usuario':v_usuario}\n    \n    return pd.DataFrame(dic_aux), errs\n        \n        \n    \n    \n    \n    "
        },
        {
            "cell_type": "code",
            "execution_count": 8,
            "metadata": {},
            "outputs": [],
            "source": "df, errs = read_whatsapp_conversation('conversacion_con_Elbuenizzy.txt')"
        },
        {
            "cell_type": "code",
            "execution_count": 9,
            "metadata": {
                "scrolled": false
            },
            "outputs": [
                {
                    "data": {
                        "text/html": "<div>\n<style scoped>\n    .dataframe tbody tr th:only-of-type {\n        vertical-align: middle;\n    }\n\n    .dataframe tbody tr th {\n        vertical-align: top;\n    }\n\n    .dataframe thead th {\n        text-align: right;\n    }\n</style>\n<table border=\"1\" class=\"dataframe\">\n  <thead>\n    <tr style=\"text-align: right;\">\n      <th></th>\n      <th>d_fecha</th>\n      <th>v_hora</th>\n      <th>t_texto</th>\n      <th>v_usuario</th>\n    </tr>\n  </thead>\n  <tbody>\n    <tr>\n      <th>0</th>\n      <td>2019-12-07 07:18:00</td>\n      <td>7</td>\n      <td>kha</td>\n      <td>isaac carrada elbuenizzy</td>\n    </tr>\n    <tr>\n      <th>1</th>\n      <td>2019-12-09 16:32:00</td>\n      <td>16</td>\n      <td>coo se apellida luis felipe</td>\n      <td>isaac carrada elbuenizzy</td>\n    </tr>\n    <tr>\n      <th>2</th>\n      <td>2019-12-10 17:44:00</td>\n      <td>17</td>\n      <td>sabes que acepta speech to text de extension</td>\n      <td>isaac carrada elbuenizzy</td>\n    </tr>\n    <tr>\n      <th>3</th>\n      <td>2019-12-12 21:04:00</td>\n      <td>21</td>\n      <td>chi</td>\n      <td>adolfo cruz</td>\n    </tr>\n    <tr>\n      <th>4</th>\n      <td>2019-12-12 21:04:00</td>\n      <td>21</td>\n      <td>es wav</td>\n      <td>adolfo cruz</td>\n    </tr>\n  </tbody>\n</table>\n</div>",
                        "text/plain": "              d_fecha  v_hora                                       t_texto  \\\n0 2019-12-07 07:18:00       7                                           kha   \n1 2019-12-09 16:32:00      16                   coo se apellida luis felipe   \n2 2019-12-10 17:44:00      17  sabes que acepta speech to text de extension   \n3 2019-12-12 21:04:00      21                                           chi   \n4 2019-12-12 21:04:00      21                                        es wav   \n\n                  v_usuario  \n0  isaac carrada elbuenizzy  \n1  isaac carrada elbuenizzy  \n2  isaac carrada elbuenizzy  \n3               adolfo cruz  \n4               adolfo cruz  "
                    },
                    "execution_count": 9,
                    "metadata": {},
                    "output_type": "execute_result"
                }
            ],
            "source": "df.head()"
        },
        {
            "cell_type": "code",
            "execution_count": 10,
            "metadata": {},
            "outputs": [
                {
                    "data": {
                        "text/plain": "[]"
                    },
                    "execution_count": 10,
                    "metadata": {},
                    "output_type": "execute_result"
                }
            ],
            "source": "errs"
        },
        {
            "cell_type": "markdown",
            "metadata": {},
            "source": "3. Una vez teniendo la tabla en esa estructura procedemos a hacer lo siguiente:\n  - (a) Haz el conteo de missings por variable y crea un dataframe con el siguiente formato y guardarlo en una variable llamada \"missings\" - En caso de tener \u201dmissings\u201d eliminar los registros de tu DataFrame"
        },
        {
            "cell_type": "code",
            "execution_count": 11,
            "metadata": {},
            "outputs": [],
            "source": "missings = pd.DataFrame(df.isnull().sum())\nmissings.reset_index(inplace=True)\nmissings=missings.rename(columns={\"index\":\"nombre_columna\",0:\"numero_missings\"})"
        },
        {
            "cell_type": "code",
            "execution_count": 12,
            "metadata": {},
            "outputs": [
                {
                    "data": {
                        "text/html": "<div>\n<style scoped>\n    .dataframe tbody tr th:only-of-type {\n        vertical-align: middle;\n    }\n\n    .dataframe tbody tr th {\n        vertical-align: top;\n    }\n\n    .dataframe thead th {\n        text-align: right;\n    }\n</style>\n<table border=\"1\" class=\"dataframe\">\n  <thead>\n    <tr style=\"text-align: right;\">\n      <th></th>\n      <th>nombre_columna</th>\n      <th>numero_missings</th>\n    </tr>\n  </thead>\n  <tbody>\n    <tr>\n      <th>0</th>\n      <td>d_fecha</td>\n      <td>0</td>\n    </tr>\n    <tr>\n      <th>1</th>\n      <td>v_hora</td>\n      <td>0</td>\n    </tr>\n    <tr>\n      <th>2</th>\n      <td>t_texto</td>\n      <td>0</td>\n    </tr>\n    <tr>\n      <th>3</th>\n      <td>v_usuario</td>\n      <td>0</td>\n    </tr>\n  </tbody>\n</table>\n</div>",
                        "text/plain": "  nombre_columna  numero_missings\n0        d_fecha                0\n1         v_hora                0\n2        t_texto                0\n3      v_usuario                0"
                    },
                    "execution_count": 12,
                    "metadata": {},
                    "output_type": "execute_result"
                }
            ],
            "source": "missings"
        },
        {
            "cell_type": "markdown",
            "metadata": {},
            "source": "  - (b) Posteriormente haz el conteo de registros que tienen como valor \"Multimedia omitido\" en la variable \"t_texto\" y asignala a una variable llamada \"total_multimedia\", adicional a lo anterior elimina dichos registros. El n\u00famero de registros m\u00ednimos para poder trabajar los siguientes pasos deber\u00eda ser 200."
        },
        {
            "cell_type": "code",
            "execution_count": 13,
            "metadata": {},
            "outputs": [
                {
                    "name": "stdout",
                    "output_type": "stream",
                    "text": "N\u00famero de valores media omitted 1150\n"
                }
            ],
            "source": "total_multimedia =  len(df.t_texto[df.t_texto == 'media omitted'])\nprint('N\u00famero de valores media omitted', total_multimedia)\ndf = df[df.t_texto != 'media omitted']"
        },
        {
            "cell_type": "markdown",
            "metadata": {},
            "source": "  - (c) Verifica la calidad de los datos"
        },
        {
            "cell_type": "markdown",
            "metadata": {},
            "source": "<font color='#800000'> Este inciso era como encabezado, sin embargo me di cuenta de que hay muchos textos vac\u00edos. Esto es porque algunos mensajes son emojies o solamente puntos como para recordar un mensaje pasado y a la hora de limpiar el texto como son car\u00e1cteres especiales se quitan dejando la cadena vac\u00eda, y es por eso que los elimino en est\u00e1 secci\u00f3n. <font color='#800000'>"
        },
        {
            "cell_type": "code",
            "execution_count": 14,
            "metadata": {},
            "outputs": [
                {
                    "data": {
                        "text/plain": "          1236\njajaja     932\nxd         404\nName: t_texto, dtype: int64"
                    },
                    "execution_count": 14,
                    "metadata": {},
                    "output_type": "execute_result"
                }
            ],
            "source": "df.t_texto.value_counts()[:3]"
        },
        {
            "cell_type": "code",
            "execution_count": 15,
            "metadata": {},
            "outputs": [],
            "source": "df = df[df.t_texto != '']"
        },
        {
            "cell_type": "markdown",
            "metadata": {},
            "source": "  - (d) Realiza la limpieza de la variable \"v_usuario\" , solo debes tener dos categor\u00edas en esta columna, el texto no debe contener caracteres especiales , en min\u00fasculas y sin espacios."
        },
        {
            "cell_type": "code",
            "execution_count": 16,
            "metadata": {},
            "outputs": [
                {
                    "data": {
                        "text/plain": "isaac carrada elbuenizzy    0.56857\nadolfo cruz                 0.43143\nName: v_usuario, dtype: float64"
                    },
                    "execution_count": 16,
                    "metadata": {},
                    "output_type": "execute_result"
                }
            ],
            "source": "df.v_usuario.value_counts(1)"
        },
        {
            "cell_type": "markdown",
            "metadata": {},
            "source": "  - (e) La variable \"d_fecha\" conviertela a tipo \"datetime\""
        },
        {
            "cell_type": "code",
            "execution_count": 17,
            "metadata": {},
            "outputs": [],
            "source": "# Este paso se realiza cuando se ejecuta la funci\u00f3n read_whatsapp_conversation"
        },
        {
            "cell_type": "markdown",
            "metadata": {},
            "source": "  - (f) La variable \"v_hora\" conviertela a tipo entero"
        },
        {
            "cell_type": "code",
            "execution_count": 18,
            "metadata": {},
            "outputs": [
                {
                    "data": {
                        "text/plain": "d_fecha      datetime64[ns]\nv_hora                int64\nt_texto              object\nv_usuario            object\ndtype: object"
                    },
                    "execution_count": 18,
                    "metadata": {},
                    "output_type": "execute_result"
                }
            ],
            "source": "# Este paso se realiza dentro la funci\u00f3n read_whatsapp_conversation\ndf.dtypes"
        },
        {
            "cell_type": "markdown",
            "metadata": {},
            "source": "  - (g) Realiza la limpieza de la variable \"t_texto\""
        },
        {
            "cell_type": "code",
            "execution_count": 19,
            "metadata": {},
            "outputs": [],
            "source": "# Este paso se realiza cuando se ejecuta la funci\u00f3n read_whatsapp_conversation"
        },
        {
            "cell_type": "markdown",
            "metadata": {},
            "source": "  - (h) Elimina stop words"
        },
        {
            "cell_type": "code",
            "execution_count": 20,
            "metadata": {},
            "outputs": [],
            "source": "stop_words = stopwords.words('spanish')"
        },
        {
            "cell_type": "code",
            "execution_count": 21,
            "metadata": {},
            "outputs": [],
            "source": "df.t_texto = df.t_texto.apply(lambda text: \" \".join([x for x in text.split(\" \") if x not in stop_words]))"
        },
        {
            "cell_type": "markdown",
            "metadata": {},
            "source": "  - (i) Elimina hapaxes"
        },
        {
            "cell_type": "code",
            "execution_count": 22,
            "metadata": {},
            "outputs": [
                {
                    "name": "stdout",
                    "output_type": "stream",
                    "text": "N\u00famero de palabr\u00e1s que aparecen solo una vez:  8317\nPalabras eliminadas\n"
                }
            ],
            "source": "corpus=\" \".join(df.t_texto.values)\nfdist=nltk.FreqDist(corpus.split())\nlist_hapaxes=fdist.hapaxes()\nprint('N\u00famero de palabr\u00e1s que aparecen solo una vez: ', len(list_hapaxes))\ndf.t_texto=df.t_texto.map(lambda text:\" \".join([x for x in text.split(\" \") if x not in list_hapaxes]))\ndf = df[df.t_texto != '']\nprint('Palabras eliminadas')"
        },
        {
            "cell_type": "markdown",
            "metadata": {},
            "source": "  - (j) Realiza tokenizaci\u00f3n"
        },
        {
            "cell_type": "code",
            "execution_count": 23,
            "metadata": {},
            "outputs": [],
            "source": "df.t_texto=df.t_texto.map(lambda x:x.split())"
        },
        {
            "cell_type": "markdown",
            "metadata": {},
            "source": "  - (k) Realiza derivaci\u00f3n (Stemmer) en espa\u00f1ol, se puede utilizar de la siguiente forma:"
        },
        {
            "cell_type": "code",
            "execution_count": 24,
            "metadata": {},
            "outputs": [],
            "source": "spanish_stemmer = SnowballStemmer('spanish')\ndf.t_texto=df.t_texto.map(lambda text_list:[spanish_stemmer.stem(word) for word in text_list])"
        },
        {
            "cell_type": "markdown",
            "metadata": {},
            "source": "  - (l) Creaci\u00f3n de variables(Se deben crear al menos 10 nuevas variables):"
        },
        {
            "cell_type": "code",
            "execution_count": 25,
            "metadata": {
                "scrolled": true
            },
            "outputs": [],
            "source": "df['c_numero_palabras'] = df.t_texto.apply(lambda x: len(x))\ndf['c_numero_letras'] =df.t_texto.map(lambda x: sum(len(word) for word in x))\ndf['c_long_pro_pala'] = df['c_numero_letras'] / df['c_numero_palabras']\n\nl = []\nfor element in df.t_texto:\n    l = element + l\nnuevas_variables = pd.Series(l).value_counts()[:40].index.tolist()\nfor col in nuevas_variables:\n    df['v_'+col] = df.t_texto.apply(lambda lista_texto: int(col in lista_texto))"
        },
        {
            "cell_type": "code",
            "execution_count": 26,
            "metadata": {},
            "outputs": [],
            "source": "df[\"t_texto_unido\"]=df.t_texto.map(lambda x:\" \".join(x))\nX_train = df.sample(frac=.5)\n"
        },
        {
            "cell_type": "code",
            "execution_count": 27,
            "metadata": {},
            "outputs": [],
            "source": "vect = TfidfVectorizer()\nvect.fit(X_train[\"t_texto_unido\"])\narray_all= vect.transform(df[\"t_texto_unido\"])\naux=pd.DataFrame(array_all.toarray(),columns=vect.get_feature_names())\ndf=pd.concat([df.reset_index(drop=True),aux.reset_index(drop=True)],axis=1)"
        },
        {
            "cell_type": "code",
            "execution_count": 28,
            "metadata": {},
            "outputs": [],
            "source": "df_text = df.copy()"
        },
        {
            "cell_type": "code",
            "execution_count": 29,
            "metadata": {},
            "outputs": [
                {
                    "data": {
                        "text/html": "<div>\n<style scoped>\n    .dataframe tbody tr th:only-of-type {\n        vertical-align: middle;\n    }\n\n    .dataframe tbody tr th {\n        vertical-align: top;\n    }\n\n    .dataframe thead th {\n        text-align: right;\n    }\n</style>\n<table border=\"1\" class=\"dataframe\">\n  <thead>\n    <tr style=\"text-align: right;\">\n      <th></th>\n      <th>d_fecha</th>\n      <th>v_hora</th>\n      <th>t_texto</th>\n      <th>v_usuario</th>\n      <th>c_numero_palabras</th>\n      <th>c_numero_letras</th>\n      <th>c_long_pro_pala</th>\n      <th>v_si</th>\n      <th>v_we</th>\n      <th>v_jajaj</th>\n      <th>...</th>\n      <th>yq</th>\n      <th>yug</th>\n      <th>yum</th>\n      <th>yuval</th>\n      <th>zanahori</th>\n      <th>zd</th>\n      <th>zenec</th>\n      <th>zon</th>\n      <th>zoom</th>\n      <th>zorrit</th>\n    </tr>\n  </thead>\n  <tbody>\n    <tr>\n      <th>0</th>\n      <td>2019-12-07 07:18:00</td>\n      <td>7</td>\n      <td>[kha]</td>\n      <td>isaac carrada elbuenizzy</td>\n      <td>1</td>\n      <td>3</td>\n      <td>3.000000</td>\n      <td>0</td>\n      <td>0</td>\n      <td>0</td>\n      <td>...</td>\n      <td>0.0</td>\n      <td>0.0</td>\n      <td>0.0</td>\n      <td>0.0</td>\n      <td>0.0</td>\n      <td>0.0</td>\n      <td>0.0</td>\n      <td>0.0</td>\n      <td>0.0</td>\n      <td>0.0</td>\n    </tr>\n    <tr>\n      <th>1</th>\n      <td>2019-12-09 16:32:00</td>\n      <td>16</td>\n      <td>[apell, luis, felip]</td>\n      <td>isaac carrada elbuenizzy</td>\n      <td>3</td>\n      <td>14</td>\n      <td>4.666667</td>\n      <td>0</td>\n      <td>0</td>\n      <td>0</td>\n      <td>...</td>\n      <td>0.0</td>\n      <td>0.0</td>\n      <td>0.0</td>\n      <td>0.0</td>\n      <td>0.0</td>\n      <td>0.0</td>\n      <td>0.0</td>\n      <td>0.0</td>\n      <td>0.0</td>\n      <td>0.0</td>\n    </tr>\n  </tbody>\n</table>\n<p>2 rows \u00d7 3949 columns</p>\n</div>",
                        "text/plain": "              d_fecha  v_hora               t_texto                 v_usuario  \\\n0 2019-12-07 07:18:00       7                 [kha]  isaac carrada elbuenizzy   \n1 2019-12-09 16:32:00      16  [apell, luis, felip]  isaac carrada elbuenizzy   \n\n   c_numero_palabras  c_numero_letras  c_long_pro_pala  v_si  v_we  v_jajaj  \\\n0                  1                3         3.000000     0     0        0   \n1                  3               14         4.666667     0     0        0   \n\n   ...   yq  yug  yum  yuval  zanahori   zd  zenec  zon  zoom  zorrit  \n0  ...  0.0  0.0  0.0    0.0       0.0  0.0    0.0  0.0   0.0     0.0  \n1  ...  0.0  0.0  0.0    0.0       0.0  0.0    0.0  0.0   0.0     0.0  \n\n[2 rows x 3949 columns]"
                    },
                    "execution_count": 29,
                    "metadata": {},
                    "output_type": "execute_result"
                }
            ],
            "source": "df_text.head(2)"
        },
        {
            "cell_type": "markdown",
            "metadata": {},
            "source": "## PARTE 2 \u2013 Ingenier\u00eda Continuas"
        },
        {
            "cell_type": "markdown",
            "metadata": {},
            "source": "### Datos"
        },
        {
            "cell_type": "code",
            "execution_count": 30,
            "metadata": {},
            "outputs": [
                {
                    "data": {
                        "text/html": "<div>\n<style scoped>\n    .dataframe tbody tr th:only-of-type {\n        vertical-align: middle;\n    }\n\n    .dataframe tbody tr th {\n        vertical-align: top;\n    }\n\n    .dataframe thead th {\n        text-align: right;\n    }\n</style>\n<table border=\"1\" class=\"dataframe\">\n  <thead>\n    <tr style=\"text-align: right;\">\n      <th></th>\n      <th>Open</th>\n      <th>High</th>\n      <th>Low</th>\n      <th>Close</th>\n      <th>Adj Close</th>\n      <th>Volume</th>\n      <th>date</th>\n    </tr>\n  </thead>\n  <tbody>\n    <tr>\n      <th>0</th>\n      <td>38.290001</td>\n      <td>40.160000</td>\n      <td>38.099998</td>\n      <td>39.880001</td>\n      <td>38.219864</td>\n      <td>3063098</td>\n      <td>2004-12-01 00:00:00</td>\n    </tr>\n    <tr>\n      <th>1</th>\n      <td>39.880001</td>\n      <td>40.139999</td>\n      <td>38.590000</td>\n      <td>40.000000</td>\n      <td>38.334866</td>\n      <td>469910</td>\n      <td>2004-12-02 00:13:00</td>\n    </tr>\n    <tr>\n      <th>2</th>\n      <td>39.799999</td>\n      <td>41.959999</td>\n      <td>39.520000</td>\n      <td>40.790001</td>\n      <td>39.091980</td>\n      <td>6223049</td>\n      <td>2004-12-03 00:38:00</td>\n    </tr>\n  </tbody>\n</table>\n</div>",
                        "text/plain": "        Open       High        Low      Close  Adj Close   Volume  \\\n0  38.290001  40.160000  38.099998  39.880001  38.219864  3063098   \n1  39.880001  40.139999  38.590000  40.000000  38.334866   469910   \n2  39.799999  41.959999  39.520000  40.790001  39.091980  6223049   \n\n                  date  \n0  2004-12-01 00:00:00  \n1  2004-12-02 00:13:00  \n2  2004-12-03 00:38:00  "
                    },
                    "execution_count": 30,
                    "metadata": {},
                    "output_type": "execute_result"
                }
            ],
            "source": "# The code was removed by Watson Studio for sharing."
        },
        {
            "cell_type": "code",
            "execution_count": 31,
            "metadata": {},
            "outputs": [],
            "source": "df_bolsa = pd.read_csv('BOLSAA.MX.csv')"
        },
        {
            "cell_type": "markdown",
            "metadata": {},
            "source": "(a) Etiquetado de las variables"
        },
        {
            "cell_type": "code",
            "execution_count": 32,
            "metadata": {},
            "outputs": [],
            "source": "df_bolsa.rename(columns={'Open':'c_Open', 'High':'c_High', 'Low': 'c_Low', 'Close':'c_Close', 'Adj Close':'c_Adj_Close', 'Volume':'c_Volume', 'date':'d_date'}, inplace=True)"
        },
        {
            "cell_type": "markdown",
            "metadata": {},
            "source": "(b) Calidad de datos, para verificar que no existan anomal\u00edas"
        },
        {
            "cell_type": "code",
            "execution_count": 33,
            "metadata": {},
            "outputs": [
                {
                    "data": {
                        "text/plain": "c_Open         0\nc_High         0\nc_Low          0\nc_Close        0\nc_Adj_Close    0\nc_Volume       0\nd_date         0\ndtype: int64"
                    },
                    "execution_count": 33,
                    "metadata": {},
                    "output_type": "execute_result"
                }
            ],
            "source": "df_bolsa.isnull().sum()"
        },
        {
            "cell_type": "code",
            "execution_count": 34,
            "metadata": {},
            "outputs": [
                {
                    "data": {
                        "text/html": "<div>\n<style scoped>\n    .dataframe tbody tr th:only-of-type {\n        vertical-align: middle;\n    }\n\n    .dataframe tbody tr th {\n        vertical-align: top;\n    }\n\n    .dataframe thead th {\n        text-align: right;\n    }\n</style>\n<table border=\"1\" class=\"dataframe\">\n  <thead>\n    <tr style=\"text-align: right;\">\n      <th></th>\n      <th>c_Open</th>\n      <th>c_High</th>\n      <th>c_Low</th>\n      <th>c_Close</th>\n      <th>c_Adj_Close</th>\n      <th>c_Volume</th>\n    </tr>\n  </thead>\n  <tbody>\n    <tr>\n      <th>count</th>\n      <td>5040.000000</td>\n      <td>5040.000000</td>\n      <td>5040.000000</td>\n      <td>5040.000000</td>\n      <td>5040.000000</td>\n      <td>5.040000e+03</td>\n    </tr>\n    <tr>\n      <th>mean</th>\n      <td>43.288968</td>\n      <td>44.206151</td>\n      <td>42.444563</td>\n      <td>43.264167</td>\n      <td>42.340073</td>\n      <td>1.121456e+06</td>\n    </tr>\n    <tr>\n      <th>std</th>\n      <td>3.359412</td>\n      <td>3.200158</td>\n      <td>3.575667</td>\n      <td>3.371480</td>\n      <td>3.888366</td>\n      <td>9.929247e+05</td>\n    </tr>\n    <tr>\n      <th>min</th>\n      <td>29.100000</td>\n      <td>34.130001</td>\n      <td>28.270000</td>\n      <td>28.690001</td>\n      <td>27.495684</td>\n      <td>0.000000e+00</td>\n    </tr>\n    <tr>\n      <th>25%</th>\n      <td>42.000000</td>\n      <td>42.737501</td>\n      <td>41.500000</td>\n      <td>41.987501</td>\n      <td>40.333071</td>\n      <td>5.317865e+05</td>\n    </tr>\n    <tr>\n      <th>50%</th>\n      <td>43.004999</td>\n      <td>43.825001</td>\n      <td>42.410000</td>\n      <td>43.004999</td>\n      <td>41.856881</td>\n      <td>8.460975e+05</td>\n    </tr>\n    <tr>\n      <th>75%</th>\n      <td>45.179998</td>\n      <td>46.255000</td>\n      <td>44.472499</td>\n      <td>45.155000</td>\n      <td>45.025000</td>\n      <td>1.372988e+06</td>\n    </tr>\n    <tr>\n      <th>max</th>\n      <td>51.410000</td>\n      <td>52.169998</td>\n      <td>50.419998</td>\n      <td>51.950001</td>\n      <td>51.950001</td>\n      <td>7.268611e+06</td>\n    </tr>\n  </tbody>\n</table>\n</div>",
                        "text/plain": "            c_Open       c_High        c_Low      c_Close  c_Adj_Close  \\\ncount  5040.000000  5040.000000  5040.000000  5040.000000  5040.000000   \nmean     43.288968    44.206151    42.444563    43.264167    42.340073   \nstd       3.359412     3.200158     3.575667     3.371480     3.888366   \nmin      29.100000    34.130001    28.270000    28.690001    27.495684   \n25%      42.000000    42.737501    41.500000    41.987501    40.333071   \n50%      43.004999    43.825001    42.410000    43.004999    41.856881   \n75%      45.179998    46.255000    44.472499    45.155000    45.025000   \nmax      51.410000    52.169998    50.419998    51.950001    51.950001   \n\n           c_Volume  \ncount  5.040000e+03  \nmean   1.121456e+06  \nstd    9.929247e+05  \nmin    0.000000e+00  \n25%    5.317865e+05  \n50%    8.460975e+05  \n75%    1.372988e+06  \nmax    7.268611e+06  "
                    },
                    "execution_count": 34,
                    "metadata": {},
                    "output_type": "execute_result"
                }
            ],
            "source": "df_bolsa.describe()"
        },
        {
            "cell_type": "code",
            "execution_count": 35,
            "metadata": {},
            "outputs": [
                {
                    "data": {
                        "text/plain": "c_Open         float64\nc_High         float64\nc_Low          float64\nc_Close        float64\nc_Adj_Close    float64\nc_Volume         int64\nd_date          object\ndtype: object"
                    },
                    "execution_count": 35,
                    "metadata": {},
                    "output_type": "execute_result"
                }
            ],
            "source": "df_bolsa.dtypes"
        },
        {
            "cell_type": "code",
            "execution_count": 36,
            "metadata": {},
            "outputs": [],
            "source": "df_bolsa.d_date = pd.to_datetime(df_bolsa.d_date)"
        },
        {
            "cell_type": "markdown",
            "metadata": {},
            "source": "(c) Verifique que los datos est\u00e9n ordenados por fecha"
        },
        {
            "cell_type": "code",
            "execution_count": 37,
            "metadata": {},
            "outputs": [],
            "source": "df_bolsa.sort_values('d_date', inplace=True)"
        },
        {
            "cell_type": "markdown",
            "metadata": {},
            "source": "(d) \u00bfCu\u00e1l es la diferencia promedio entre fechas?"
        },
        {
            "cell_type": "code",
            "execution_count": 38,
            "metadata": {},
            "outputs": [
                {
                    "data": {
                        "text/plain": "count                      5039\nmean     1 days 00:18:06.346497\nstd      0 days 00:08:25.902877\nmin             1 days 00:04:00\n25%             1 days 00:11:00\n50%             1 days 00:18:00\n75%             1 days 00:26:00\nmax             1 days 00:32:00\nName: d_date, dtype: object"
                    },
                    "execution_count": 38,
                    "metadata": {},
                    "output_type": "execute_result"
                }
            ],
            "source": "df_bolsa.d_date.diff().describe() # La respuesta es 1 d\u00eda"
        },
        {
            "cell_type": "markdown",
            "metadata": {},
            "source": "(e) (TABLA 1) Gener\u00e9 las siguientes variables sin cambiar la frecuencia de los registros (con fechas originales, sin agrupaciones):\n\nRealice el desfase de la variable \u201dCierre\u201d de tal forma que los valores por\nregistro le corresponda el valor de \u201dCierre\u201d de dos periodos posteriores\n- Variable \u201ddiff max min\u201d que sea la diferencia de los valores High con los valores Low\n- Variable \u201dpct cie ape\u201d cambio porcentual entre el valor de cierre y apertura\n- Variable \"ratio\" que corresponda a los valores de cierre entre los valores de apertura\n- Cree las siguientes variables para esta lista: [\u2019Open\u2019, \u2019High\u2019, \u2019Low\u2019, \u2019Volume\u2019]\n  - Columnas de diferencia de 1 periodo a 3 per \u0301\u0131odos para cada variable\n  - Columnas de ventana de tiempo de 1 ,..., 3 para cada variable utilizando la media\n  - Columnas de cambio porcentual de 1 periodo a 3 per \u0301\u0131odos para cada variable\n  - Generar el cuadrado de cada variable"
        },
        {
            "cell_type": "code",
            "execution_count": 39,
            "metadata": {},
            "outputs": [],
            "source": "df_bolsa[\"c_Cierre_tgt\"] = df_bolsa.c_Close.shift(2)\n\ndf_bolsa['diff_max _min'] = df_bolsa.c_High - df_bolsa.c_Low\n\ndf_bolsa[\"pct_cie_ape\"] = (df_bolsa.c_Close - df_bolsa.c_Open)/df_bolsa.c_Open\n\ndf_bolsa['ratio'] = df_bolsa.c_Close/df_bolsa.c_Open"
        },
        {
            "cell_type": "code",
            "execution_count": 40,
            "metadata": {},
            "outputs": [],
            "source": "l = ['c_Open', 'c_High', 'c_Low', 'c_Volume']\n\nfor col in l:\n    df_bolsa[col+'_cuadrado'] = df_bolsa[col]**2\n    for k in range(3):\n        df_bolsa[col+('_diff_%d' %(k+1))] = df_bolsa[col].diff(k+1)\n        df_bolsa[col+('_mean_%d' %(k+1))] = df_bolsa[col].rolling(k+1).mean()\n        df_bolsa[col+('_pct_%d' %(k+1))] = df_bolsa[col].pct_change(k+1)\n    \n"
        },
        {
            "cell_type": "code",
            "execution_count": 41,
            "metadata": {},
            "outputs": [],
            "source": "df_ori = df_bolsa.copy()"
        },
        {
            "cell_type": "code",
            "execution_count": 42,
            "metadata": {},
            "outputs": [
                {
                    "data": {
                        "text/html": "<div>\n<style scoped>\n    .dataframe tbody tr th:only-of-type {\n        vertical-align: middle;\n    }\n\n    .dataframe tbody tr th {\n        vertical-align: top;\n    }\n\n    .dataframe thead th {\n        text-align: right;\n    }\n</style>\n<table border=\"1\" class=\"dataframe\">\n  <thead>\n    <tr style=\"text-align: right;\">\n      <th></th>\n      <th>c_Open</th>\n      <th>c_High</th>\n      <th>c_Low</th>\n      <th>c_Close</th>\n      <th>c_Adj_Close</th>\n      <th>c_Volume</th>\n      <th>d_date</th>\n      <th>c_Cierre_tgt</th>\n      <th>diff_max _min</th>\n      <th>pct_cie_ape</th>\n      <th>...</th>\n      <th>c_Volume_cuadrado</th>\n      <th>c_Volume_diff_1</th>\n      <th>c_Volume_mean_1</th>\n      <th>c_Volume_pct_1</th>\n      <th>c_Volume_diff_2</th>\n      <th>c_Volume_mean_2</th>\n      <th>c_Volume_pct_2</th>\n      <th>c_Volume_diff_3</th>\n      <th>c_Volume_mean_3</th>\n      <th>c_Volume_pct_3</th>\n    </tr>\n  </thead>\n  <tbody>\n    <tr>\n      <th>0</th>\n      <td>38.290001</td>\n      <td>40.160000</td>\n      <td>38.099998</td>\n      <td>39.880001</td>\n      <td>38.219864</td>\n      <td>3063098</td>\n      <td>2004-12-01 00:00:00</td>\n      <td>NaN</td>\n      <td>2.060002</td>\n      <td>0.041525</td>\n      <td>...</td>\n      <td>9382569357604</td>\n      <td>NaN</td>\n      <td>3063098.0</td>\n      <td>NaN</td>\n      <td>NaN</td>\n      <td>NaN</td>\n      <td>NaN</td>\n      <td>NaN</td>\n      <td>NaN</td>\n      <td>NaN</td>\n    </tr>\n    <tr>\n      <th>1</th>\n      <td>39.880001</td>\n      <td>40.139999</td>\n      <td>38.590000</td>\n      <td>40.000000</td>\n      <td>38.334866</td>\n      <td>469910</td>\n      <td>2004-12-02 00:13:00</td>\n      <td>NaN</td>\n      <td>1.549999</td>\n      <td>0.003009</td>\n      <td>...</td>\n      <td>220815408100</td>\n      <td>-2593188.0</td>\n      <td>469910.0</td>\n      <td>-0.846590</td>\n      <td>NaN</td>\n      <td>1766504.0</td>\n      <td>NaN</td>\n      <td>NaN</td>\n      <td>NaN</td>\n      <td>NaN</td>\n    </tr>\n    <tr>\n      <th>2</th>\n      <td>39.799999</td>\n      <td>41.959999</td>\n      <td>39.520000</td>\n      <td>40.790001</td>\n      <td>39.091980</td>\n      <td>6223049</td>\n      <td>2004-12-03 00:38:00</td>\n      <td>39.880001</td>\n      <td>2.439999</td>\n      <td>0.024874</td>\n      <td>...</td>\n      <td>38726338856401</td>\n      <td>5753139.0</td>\n      <td>6223049.0</td>\n      <td>12.243066</td>\n      <td>3159951.0</td>\n      <td>3346479.5</td>\n      <td>1.031619</td>\n      <td>NaN</td>\n      <td>3252019.0</td>\n      <td>NaN</td>\n    </tr>\n  </tbody>\n</table>\n<p>3 rows \u00d7 51 columns</p>\n</div>",
                        "text/plain": "      c_Open     c_High      c_Low    c_Close  c_Adj_Close  c_Volume  \\\n0  38.290001  40.160000  38.099998  39.880001    38.219864   3063098   \n1  39.880001  40.139999  38.590000  40.000000    38.334866    469910   \n2  39.799999  41.959999  39.520000  40.790001    39.091980   6223049   \n\n               d_date  c_Cierre_tgt  diff_max _min  pct_cie_ape  ...  \\\n0 2004-12-01 00:00:00           NaN       2.060002     0.041525  ...   \n1 2004-12-02 00:13:00           NaN       1.549999     0.003009  ...   \n2 2004-12-03 00:38:00     39.880001       2.439999     0.024874  ...   \n\n   c_Volume_cuadrado  c_Volume_diff_1  c_Volume_mean_1  c_Volume_pct_1  \\\n0      9382569357604              NaN        3063098.0             NaN   \n1       220815408100       -2593188.0         469910.0       -0.846590   \n2     38726338856401        5753139.0        6223049.0       12.243066   \n\n   c_Volume_diff_2  c_Volume_mean_2  c_Volume_pct_2  c_Volume_diff_3  \\\n0              NaN              NaN             NaN              NaN   \n1              NaN        1766504.0             NaN              NaN   \n2        3159951.0        3346479.5        1.031619              NaN   \n\n   c_Volume_mean_3  c_Volume_pct_3  \n0              NaN             NaN  \n1              NaN             NaN  \n2        3252019.0             NaN  \n\n[3 rows x 51 columns]"
                    },
                    "execution_count": 42,
                    "metadata": {},
                    "output_type": "execute_result"
                }
            ],
            "source": "df_ori.head(3)"
        },
        {
            "cell_type": "markdown",
            "metadata": {},
            "source": "(f) (TABLA 2) Cambie la frecuencia de las fechas de tal forma que los registros sean cada 3 d\u00edas y genere al menos cuatro nuevas variables por cada variable original. No olvide hacer el desfase de la variable objetivo."
        },
        {
            "cell_type": "code",
            "execution_count": 43,
            "metadata": {},
            "outputs": [],
            "source": "df_bolsa2 = df_bolsa[['c_Open','c_High','c_Low','c_Close','c_Adj_Close','c_Volume', 'd_date']].copy()\ndf_bolsa2.set_index('d_date', inplace=True)"
        },
        {
            "cell_type": "code",
            "execution_count": 44,
            "metadata": {},
            "outputs": [],
            "source": "X=df_bolsa2[[x for x in df_bolsa2 if x!=\"c_Close\"]]\ny=df_bolsa2[[\"c_Close\"]]"
        },
        {
            "cell_type": "code",
            "execution_count": 45,
            "metadata": {},
            "outputs": [],
            "source": "tgt=y.resample(\"3D\").mean()"
        },
        {
            "cell_type": "code",
            "execution_count": 46,
            "metadata": {},
            "outputs": [],
            "source": "##AGGREGATION FUNCTIONS\ndef minPctChange(x):\n    return x.pct_change().replace([np.inf, -np.inf], np.nan).min()\ndef maxPctChange(x):\n    return x.pct_change().replace([np.inf, -np.inf], np.nan).max()\ndef meanPctChange(x):\n    return x.pct_change().replace([np.inf, -np.inf], np.nan).mean()\ndef stdPctChange(x):\n    return x.pct_change().replace([np.inf, -np.inf], np.nan).std()\ndef sumPctChange(x):\n    return x.pct_change().replace([np.inf, -np.inf], np.nan).sum()\ndef minChange(x):\n    return x.diff().replace([np.inf, -np.inf], np.nan).min()\ndef maxChange(x):\n    return x.diff().replace([np.inf, -np.inf], np.nan).max()\ndef meanChange(x):\n    return x.diff().replace([np.inf, -np.inf], np.nan).mean()\ndef stdChange(x):\n    return x.diff().replace([np.inf, -np.inf], np.nan).std()\ndef sumChange(x):\n    return x.diff().replace([np.inf, -np.inf], np.nan).sum()"
        },
        {
            "cell_type": "code",
            "execution_count": 47,
            "metadata": {},
            "outputs": [],
            "source": "X_aux=X.resample(\"3D\").agg([\"min\", \"max\", \"mean\", \"sum\", \"std\", \"median\",minPctChange,sumChange])"
        },
        {
            "cell_type": "code",
            "execution_count": 48,
            "metadata": {},
            "outputs": [],
            "source": "X_aux.columns = [ name+\"|\"+func for name, func in X_aux.columns]"
        },
        {
            "cell_type": "code",
            "execution_count": 49,
            "metadata": {},
            "outputs": [],
            "source": "df_3_days=pd.concat([X_aux,tgt.shift(-1)],axis=1)"
        },
        {
            "cell_type": "code",
            "execution_count": 51,
            "metadata": {},
            "outputs": [
                {
                    "data": {
                        "text/html": "<div>\n<style scoped>\n    .dataframe tbody tr th:only-of-type {\n        vertical-align: middle;\n    }\n\n    .dataframe tbody tr th {\n        vertical-align: top;\n    }\n\n    .dataframe thead th {\n        text-align: right;\n    }\n</style>\n<table border=\"1\" class=\"dataframe\">\n  <thead>\n    <tr style=\"text-align: right;\">\n      <th></th>\n      <th>c_Open|min</th>\n      <th>c_Open|max</th>\n      <th>c_Open|mean</th>\n      <th>c_Open|sum</th>\n      <th>c_Open|std</th>\n      <th>c_Open|median</th>\n      <th>c_Open|minPctChange</th>\n      <th>c_Open|sumChange</th>\n      <th>c_High|min</th>\n      <th>c_High|max</th>\n      <th>...</th>\n      <th>c_Adj_Close|sumChange</th>\n      <th>c_Volume|min</th>\n      <th>c_Volume|max</th>\n      <th>c_Volume|mean</th>\n      <th>c_Volume|sum</th>\n      <th>c_Volume|std</th>\n      <th>c_Volume|median</th>\n      <th>c_Volume|minPctChange</th>\n      <th>c_Volume|sumChange</th>\n      <th>c_Close</th>\n    </tr>\n    <tr>\n      <th>d_date</th>\n      <th></th>\n      <th></th>\n      <th></th>\n      <th></th>\n      <th></th>\n      <th></th>\n      <th></th>\n      <th></th>\n      <th></th>\n      <th></th>\n      <th></th>\n      <th></th>\n      <th></th>\n      <th></th>\n      <th></th>\n      <th></th>\n      <th></th>\n      <th></th>\n      <th></th>\n      <th></th>\n      <th></th>\n    </tr>\n  </thead>\n  <tbody>\n    <tr>\n      <th>2004-12-01</th>\n      <td>38.290001</td>\n      <td>39.880001</td>\n      <td>39.323334</td>\n      <td>117.970001</td>\n      <td>0.895786</td>\n      <td>39.799999</td>\n      <td>-0.002006</td>\n      <td>1.509998</td>\n      <td>40.139999</td>\n      <td>41.959999</td>\n      <td>...</td>\n      <td>0.872116</td>\n      <td>469910</td>\n      <td>6223049</td>\n      <td>3.252019e+06</td>\n      <td>9756057</td>\n      <td>2.881219e+06</td>\n      <td>3063098.0</td>\n      <td>-0.846590</td>\n      <td>3159951</td>\n      <td>41.946667</td>\n    </tr>\n    <tr>\n      <th>2004-12-04</th>\n      <td>40.849998</td>\n      <td>42.020000</td>\n      <td>41.556666</td>\n      <td>124.669997</td>\n      <td>0.621799</td>\n      <td>41.799999</td>\n      <td>0.005263</td>\n      <td>1.170002</td>\n      <td>42.299999</td>\n      <td>42.520000</td>\n      <td>...</td>\n      <td>0.421680</td>\n      <td>1170484</td>\n      <td>3564162</td>\n      <td>2.215200e+06</td>\n      <td>6645599</td>\n      <td>1.225499e+06</td>\n      <td>1910953.0</td>\n      <td>-0.463842</td>\n      <td>-2393678</td>\n      <td>42.446667</td>\n    </tr>\n    <tr>\n      <th>2004-12-07</th>\n      <td>42.200001</td>\n      <td>43.360001</td>\n      <td>42.636667</td>\n      <td>127.910000</td>\n      <td>0.630900</td>\n      <td>42.349998</td>\n      <td>-0.023293</td>\n      <td>0.149997</td>\n      <td>42.840000</td>\n      <td>43.360001</td>\n      <td>...</td>\n      <td>-1.121296</td>\n      <td>799734</td>\n      <td>1906038</td>\n      <td>1.505892e+06</td>\n      <td>4517675</td>\n      <td>6.133591e+05</td>\n      <td>1811903.0</td>\n      <td>-0.558622</td>\n      <td>94135</td>\n      <td>42.630001</td>\n    </tr>\n  </tbody>\n</table>\n<p>3 rows \u00d7 41 columns</p>\n</div>",
                        "text/plain": "            c_Open|min  c_Open|max  c_Open|mean  c_Open|sum  c_Open|std  \\\nd_date                                                                    \n2004-12-01   38.290001   39.880001    39.323334  117.970001    0.895786   \n2004-12-04   40.849998   42.020000    41.556666  124.669997    0.621799   \n2004-12-07   42.200001   43.360001    42.636667  127.910000    0.630900   \n\n            c_Open|median  c_Open|minPctChange  c_Open|sumChange  c_High|min  \\\nd_date                                                                         \n2004-12-01      39.799999            -0.002006          1.509998   40.139999   \n2004-12-04      41.799999             0.005263          1.170002   42.299999   \n2004-12-07      42.349998            -0.023293          0.149997   42.840000   \n\n            c_High|max  ...  c_Adj_Close|sumChange  c_Volume|min  \\\nd_date                  ...                                        \n2004-12-01   41.959999  ...               0.872116        469910   \n2004-12-04   42.520000  ...               0.421680       1170484   \n2004-12-07   43.360001  ...              -1.121296        799734   \n\n            c_Volume|max  c_Volume|mean  c_Volume|sum  c_Volume|std  \\\nd_date                                                                \n2004-12-01       6223049   3.252019e+06       9756057  2.881219e+06   \n2004-12-04       3564162   2.215200e+06       6645599  1.225499e+06   \n2004-12-07       1906038   1.505892e+06       4517675  6.133591e+05   \n\n            c_Volume|median  c_Volume|minPctChange  c_Volume|sumChange  \\\nd_date                                                                   \n2004-12-01        3063098.0              -0.846590             3159951   \n2004-12-04        1910953.0              -0.463842            -2393678   \n2004-12-07        1811903.0              -0.558622               94135   \n\n              c_Close  \nd_date                 \n2004-12-01  41.946667  \n2004-12-04  42.446667  \n2004-12-07  42.630001  \n\n[3 rows x 41 columns]"
                    },
                    "execution_count": 51,
                    "metadata": {},
                    "output_type": "execute_result"
                }
            ],
            "source": "df_3_days.head(3)"
        },
        {
            "cell_type": "markdown",
            "metadata": {},
            "source": "## FIN"
        }
    ],
    "metadata": {
        "kernelspec": {
            "display_name": "Python 3.7",
            "language": "python",
            "name": "python3"
        },
        "language_info": {
            "codemirror_mode": {
                "name": "ipython",
                "version": 3
            },
            "file_extension": ".py",
            "mimetype": "text/x-python",
            "name": "python",
            "nbconvert_exporter": "python",
            "pygments_lexer": "ipython3",
            "version": "3.7.10"
        }
    },
    "nbformat": 4,
    "nbformat_minor": 1
}