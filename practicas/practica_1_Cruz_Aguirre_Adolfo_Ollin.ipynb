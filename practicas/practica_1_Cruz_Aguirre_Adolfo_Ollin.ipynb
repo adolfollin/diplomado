{
    "cells": [
        {
            "cell_type": "markdown",
            "metadata": {
                "collapsed": true
            },
            "source": "# Practica 1"
        },
        {
            "cell_type": "markdown",
            "metadata": {},
            "source": "Este notebook esta dedicado a resolver la pr\u00e1ctica n\u00famero 1 del diplomado Ciencia de Datos de la FES Acatl\u00e1n. "
        },
        {
            "cell_type": "markdown",
            "metadata": {},
            "source": "## Paqueter\u00edas"
        },
        {
            "cell_type": "code",
            "execution_count": 1,
            "metadata": {},
            "outputs": [],
            "source": "import numpy as np\nimport pandas as pd\nimport ast\n\nimport unicodedata\nimport re"
        },
        {
            "cell_type": "markdown",
            "metadata": {},
            "source": "## Datos"
        },
        {
            "cell_type": "code",
            "execution_count": 2,
            "metadata": {
                "scrolled": true
            },
            "outputs": [
                {
                    "name": "stderr",
                    "output_type": "stream",
                    "text": "/opt/conda/envs/Python-3.7-main/lib/python3.7/site-packages/IPython/core/interactiveshell.py:3063: DtypeWarning: Columns (18,19) have mixed types.Specify dtype option on import or set low_memory=False.\n  interactivity=interactivity, compiler=compiler, result=result)\n"
                },
                {
                    "data": {
                        "text/html": "<div>\n<style scoped>\n    .dataframe tbody tr th:only-of-type {\n        vertical-align: middle;\n    }\n\n    .dataframe tbody tr th {\n        vertical-align: top;\n    }\n\n    .dataframe thead th {\n        text-align: right;\n    }\n</style>\n<table border=\"1\" class=\"dataframe\">\n  <thead>\n    <tr style=\"text-align: right;\">\n      <th></th>\n      <th>acousticness</th>\n      <th>artists</th>\n      <th>danceability</th>\n      <th>duration_ms</th>\n      <th>energy</th>\n      <th>explicit</th>\n      <th>id</th>\n      <th>instrumentalness</th>\n      <th>key</th>\n      <th>liveness</th>\n      <th>loudness</th>\n      <th>mode</th>\n      <th>name</th>\n      <th>popularity</th>\n      <th>release_date</th>\n      <th>speechiness</th>\n      <th>tempo</th>\n      <th>valence</th>\n      <th>zip Code</th>\n      <th>genero</th>\n    </tr>\n  </thead>\n  <tbody>\n    <tr>\n      <th>0</th>\n      <td>0.764</td>\n      <td>['Shel Silverstein']</td>\n      <td>0.669</td>\n      <td>210387</td>\n      <td>0.1720</td>\n      <td>NaN</td>\n      <td>1r3N7MoEGPHJyCjBlWCsx3</td>\n      <td>0.000000</td>\n      <td>2.0</td>\n      <td>0.1280</td>\n      <td>-13.075</td>\n      <td>1</td>\n      <td>The Unicorn</td>\n      <td>12.0</td>\n      <td>1962-10-13 00:00:00</td>\n      <td>0.3270</td>\n      <td>97.079</td>\n      <td>0.333</td>\n      <td>38ee029</td>\n      <td>NaN</td>\n    </tr>\n    <tr>\n      <th>1</th>\n      <td>0.917</td>\n      <td>['Mose Allison']</td>\n      <td>0.693</td>\n      <td>149547</td>\n      <td>0.2410</td>\n      <td>NaN</td>\n      <td>2RL8EkOOu0QhAikhUUvIRi</td>\n      <td>0.000014</td>\n      <td>NaN</td>\n      <td>0.0824</td>\n      <td>-14.605</td>\n      <td>0</td>\n      <td>If You Live</td>\n      <td>19.0</td>\n      <td>1963-04-14 00:00:00</td>\n      <td>0.0350</td>\n      <td>120.890</td>\n      <td>0.715</td>\n      <td>9p2304</td>\n      <td>NaN</td>\n    </tr>\n    <tr>\n      <th>2</th>\n      <td>0.926</td>\n      <td>['\u6c34\u67f3\u4ed9']</td>\n      <td>0.183</td>\n      <td>207173</td>\n      <td>0.0854</td>\n      <td>0.0</td>\n      <td>3kKKEghp2EMh8992pWFylr</td>\n      <td>0.704000</td>\n      <td>7.0</td>\n      <td>0.1120</td>\n      <td>-26.598</td>\n      <td>1</td>\n      <td>\u9d1b\u9d26\u5922</td>\n      <td>23.0</td>\n      <td>1963-11-14 00:00:00</td>\n      <td>0.0392</td>\n      <td>101.482</td>\n      <td>0.131</td>\n      <td>2166ee6</td>\n      <td>NaN</td>\n    </tr>\n    <tr>\n      <th>3</th>\n      <td>0.976</td>\n      <td>['Dean Martin']</td>\n      <td>0.472</td>\n      <td>182653</td>\n      <td>0.0314</td>\n      <td>NaN</td>\n      <td>0j3ideT0tRuIyRhOOUQjYa</td>\n      <td>0.000015</td>\n      <td>7.0</td>\n      <td>0.1500</td>\n      <td>-18.006</td>\n      <td>1</td>\n      <td>Fools Rush In</td>\n      <td>21.0</td>\n      <td>1964-06-07 00:00:00</td>\n      <td>0.0364</td>\n      <td>135.555</td>\n      <td>0.194</td>\n      <td>67t06</td>\n      <td>NaN</td>\n    </tr>\n    <tr>\n      <th>4</th>\n      <td>0.892</td>\n      <td>['Doris Day']</td>\n      <td>0.243</td>\n      <td>171400</td>\n      <td>0.3360</td>\n      <td>NaN</td>\n      <td>0od9zbD6Bcc8b7dCMRFWBZ</td>\n      <td>0.000049</td>\n      <td>2.0</td>\n      <td>0.1310</td>\n      <td>-9.812</td>\n      <td>0</td>\n      <td>The Christmas Waltz</td>\n      <td>22.0</td>\n      <td>1964-08-07 00:00:00</td>\n      <td>0.0282</td>\n      <td>89.158</td>\n      <td>0.238</td>\n      <td>804p53</td>\n      <td>NaN</td>\n    </tr>\n  </tbody>\n</table>\n</div>",
                        "text/plain": "   acousticness               artists  danceability  duration_ms  energy  \\\n0         0.764  ['Shel Silverstein']         0.669       210387  0.1720   \n1         0.917      ['Mose Allison']         0.693       149547  0.2410   \n2         0.926               ['\u6c34\u67f3\u4ed9']         0.183       207173  0.0854   \n3         0.976       ['Dean Martin']         0.472       182653  0.0314   \n4         0.892         ['Doris Day']         0.243       171400  0.3360   \n\n   explicit                      id  instrumentalness  key  liveness  \\\n0       NaN  1r3N7MoEGPHJyCjBlWCsx3          0.000000  2.0    0.1280   \n1       NaN  2RL8EkOOu0QhAikhUUvIRi          0.000014  NaN    0.0824   \n2       0.0  3kKKEghp2EMh8992pWFylr          0.704000  7.0    0.1120   \n3       NaN  0j3ideT0tRuIyRhOOUQjYa          0.000015  7.0    0.1500   \n4       NaN  0od9zbD6Bcc8b7dCMRFWBZ          0.000049  2.0    0.1310   \n\n   loudness  mode                 name  popularity         release_date  \\\n0   -13.075     1          The Unicorn        12.0  1962-10-13 00:00:00   \n1   -14.605     0          If You Live        19.0  1963-04-14 00:00:00   \n2   -26.598     1                  \u9d1b\u9d26\u5922        23.0  1963-11-14 00:00:00   \n3   -18.006     1        Fools Rush In        21.0  1964-06-07 00:00:00   \n4    -9.812     0  The Christmas Waltz        22.0  1964-08-07 00:00:00   \n\n   speechiness    tempo  valence zip Code genero  \n0       0.3270   97.079    0.333  38ee029    NaN  \n1       0.0350  120.890    0.715   9p2304    NaN  \n2       0.0392  101.482    0.131  2166ee6    NaN  \n3       0.0364  135.555    0.194    67t06    NaN  \n4       0.0282   89.158    0.238   804p53    NaN  "
                    },
                    "execution_count": 2,
                    "metadata": {},
                    "output_type": "execute_result"
                }
            ],
            "source": "# The code was removed by Watson Studio for sharing."
        },
        {
            "cell_type": "markdown",
            "metadata": {},
            "source": "## Parte 1"
        },
        {
            "cell_type": "markdown",
            "metadata": {},
            "source": "### A) Realiza el etiquetado de las variables de acuerdo a su tipo de variable"
        },
        {
            "cell_type": "code",
            "execution_count": 3,
            "metadata": {},
            "outputs": [],
            "source": "variables_continuas = [v for v in df.dtypes.index if df.dtypes[v] != 'object']\nvariables_categoricas = ['zip Code','genero']\nvariables_tipo_fecha = ['release_date']\nvariables_de_texto = ['name','artists']"
        },
        {
            "cell_type": "code",
            "execution_count": 4,
            "metadata": {},
            "outputs": [],
            "source": "variables_continuas_new = ['c_' + x for x in variables_continuas]\nvariables_categoricas_new = ['v_' + x for x in variables_categoricas]\nvariables_tipo_fecha_new = ['d_' + x for x in variables_tipo_fecha]\nvariables_de_texto_new = ['t_' + x for x in variables_de_texto]"
        },
        {
            "cell_type": "code",
            "execution_count": 5,
            "metadata": {},
            "outputs": [],
            "source": "df.rename(columns=dict(zip(variables_continuas,variables_continuas_new)),inplace=True)\ndf.rename(columns=dict(zip(variables_categoricas,variables_categoricas_new)),inplace=True)\ndf.rename(columns=dict(zip(variables_tipo_fecha,variables_tipo_fecha_new)),inplace=True)\ndf.rename(columns=dict(zip(variables_de_texto,variables_de_texto_new)),inplace=True)"
        },
        {
            "cell_type": "markdown",
            "metadata": {},
            "source": "### B) Eliminar duplicados"
        },
        {
            "cell_type": "code",
            "execution_count": 6,
            "metadata": {},
            "outputs": [
                {
                    "data": {
                        "text/plain": "364"
                    },
                    "execution_count": 6,
                    "metadata": {},
                    "output_type": "execute_result"
                }
            ],
            "source": "df.duplicated().sum()"
        },
        {
            "cell_type": "code",
            "execution_count": 7,
            "metadata": {},
            "outputs": [],
            "source": "df.drop_duplicates(inplace=True)"
        },
        {
            "cell_type": "markdown",
            "metadata": {},
            "source": "### C) Completitud de las variables"
        },
        {
            "cell_type": "code",
            "execution_count": 8,
            "metadata": {},
            "outputs": [],
            "source": "def completitud(df):\n    comple=pd.DataFrame(df.isnull().sum())\n    comple.reset_index(inplace=True)\n    comple=comple.rename(columns={\"index\":\"columna\",0:\"total\"})\n    comple[\"completitud\"]=(1-comple[\"total\"]/df.shape[0])*100\n    comple=comple.sort_values(by=\"completitud\",ascending=True)\n    comple.reset_index(drop=True,inplace=True)\n    return comple"
        },
        {
            "cell_type": "code",
            "execution_count": 9,
            "metadata": {},
            "outputs": [
                {
                    "data": {
                        "text/html": "<div>\n<style scoped>\n    .dataframe tbody tr th:only-of-type {\n        vertical-align: middle;\n    }\n\n    .dataframe tbody tr th {\n        vertical-align: top;\n    }\n\n    .dataframe thead th {\n        text-align: right;\n    }\n</style>\n<table border=\"1\" class=\"dataframe\">\n  <thead>\n    <tr style=\"text-align: right;\">\n      <th></th>\n      <th>columna</th>\n      <th>total</th>\n      <th>completitud</th>\n    </tr>\n  </thead>\n  <tbody>\n    <tr>\n      <th>0</th>\n      <td>c_explicit</td>\n      <td>62905</td>\n      <td>62.993794</td>\n    </tr>\n    <tr>\n      <th>1</th>\n      <td>c_key</td>\n      <td>35759</td>\n      <td>78.963438</td>\n    </tr>\n    <tr>\n      <th>2</th>\n      <td>c_popularity</td>\n      <td>3501</td>\n      <td>97.940407</td>\n    </tr>\n    <tr>\n      <th>3</th>\n      <td>v_genero</td>\n      <td>1698</td>\n      <td>99.001088</td>\n    </tr>\n    <tr>\n      <th>4</th>\n      <td>c_valence</td>\n      <td>0</td>\n      <td>100.000000</td>\n    </tr>\n    <tr>\n      <th>5</th>\n      <td>c_tempo</td>\n      <td>0</td>\n      <td>100.000000</td>\n    </tr>\n    <tr>\n      <th>6</th>\n      <td>c_speechiness</td>\n      <td>0</td>\n      <td>100.000000</td>\n    </tr>\n    <tr>\n      <th>7</th>\n      <td>d_release_date</td>\n      <td>0</td>\n      <td>100.000000</td>\n    </tr>\n    <tr>\n      <th>8</th>\n      <td>t_name</td>\n      <td>0</td>\n      <td>100.000000</td>\n    </tr>\n    <tr>\n      <th>9</th>\n      <td>c_mode</td>\n      <td>0</td>\n      <td>100.000000</td>\n    </tr>\n    <tr>\n      <th>10</th>\n      <td>c_acousticness</td>\n      <td>0</td>\n      <td>100.000000</td>\n    </tr>\n    <tr>\n      <th>11</th>\n      <td>v_zip Code</td>\n      <td>0</td>\n      <td>100.000000</td>\n    </tr>\n    <tr>\n      <th>12</th>\n      <td>c_instrumentalness</td>\n      <td>0</td>\n      <td>100.000000</td>\n    </tr>\n    <tr>\n      <th>13</th>\n      <td>id</td>\n      <td>0</td>\n      <td>100.000000</td>\n    </tr>\n    <tr>\n      <th>14</th>\n      <td>c_energy</td>\n      <td>0</td>\n      <td>100.000000</td>\n    </tr>\n    <tr>\n      <th>15</th>\n      <td>c_duration_ms</td>\n      <td>0</td>\n      <td>100.000000</td>\n    </tr>\n    <tr>\n      <th>16</th>\n      <td>c_danceability</td>\n      <td>0</td>\n      <td>100.000000</td>\n    </tr>\n    <tr>\n      <th>17</th>\n      <td>t_artists</td>\n      <td>0</td>\n      <td>100.000000</td>\n    </tr>\n    <tr>\n      <th>18</th>\n      <td>c_loudness</td>\n      <td>0</td>\n      <td>100.000000</td>\n    </tr>\n    <tr>\n      <th>19</th>\n      <td>c_liveness</td>\n      <td>0</td>\n      <td>100.000000</td>\n    </tr>\n  </tbody>\n</table>\n</div>",
                        "text/plain": "               columna  total  completitud\n0           c_explicit  62905    62.993794\n1                c_key  35759    78.963438\n2         c_popularity   3501    97.940407\n3             v_genero   1698    99.001088\n4            c_valence      0   100.000000\n5              c_tempo      0   100.000000\n6        c_speechiness      0   100.000000\n7       d_release_date      0   100.000000\n8               t_name      0   100.000000\n9               c_mode      0   100.000000\n10      c_acousticness      0   100.000000\n11          v_zip Code      0   100.000000\n12  c_instrumentalness      0   100.000000\n13                  id      0   100.000000\n14            c_energy      0   100.000000\n15       c_duration_ms      0   100.000000\n16      c_danceability      0   100.000000\n17           t_artists      0   100.000000\n18          c_loudness      0   100.000000\n19          c_liveness      0   100.000000"
                    },
                    "execution_count": 9,
                    "metadata": {},
                    "output_type": "execute_result"
                }
            ],
            "source": "completitud(df)"
        },
        {
            "cell_type": "markdown",
            "metadata": {},
            "source": "### D) Elimina las variables que tengan el 20 % o m\u00e1s de valores ausentes"
        },
        {
            "cell_type": "code",
            "execution_count": 10,
            "metadata": {},
            "outputs": [],
            "source": "df.drop(columns=['c_explicit', 'c_key'], inplace=True)"
        },
        {
            "cell_type": "markdown",
            "metadata": {},
            "source": "### E) \u00bfCu\u00e1ntos de los registros en la variable \"zip Code\" son valores no v\u00e1lidos? , es decir, contienen letras."
        },
        {
            "cell_type": "code",
            "execution_count": 11,
            "metadata": {},
            "outputs": [
                {
                    "data": {
                        "text/plain": "38913"
                    },
                    "execution_count": 11,
                    "metadata": {},
                    "output_type": "execute_result"
                }
            ],
            "source": "sum(df['v_zip Code'].apply(lambda x: 1 if type(x)==str else 0))"
        },
        {
            "cell_type": "markdown",
            "metadata": {},
            "source": "### F) Elimina los registros que no tengas un \u201dzip Code\u201d v\u00e1lido, es decir contenga letras en los valores"
        },
        {
            "cell_type": "code",
            "execution_count": 12,
            "metadata": {},
            "outputs": [],
            "source": "aux = df['v_zip Code'][df['v_zip Code'].apply(lambda x: True if type(x)==str else False)].index.tolist()"
        },
        {
            "cell_type": "code",
            "execution_count": 13,
            "metadata": {},
            "outputs": [],
            "source": "df.drop(index=aux, inplace=True)"
        },
        {
            "cell_type": "markdown",
            "metadata": {},
            "source": "### G) \u00bfCu\u00e1ntos de los registros en la variable \"genero\" son valores no validos? , es decir, contienen letras"
        },
        {
            "cell_type": "code",
            "execution_count": 14,
            "metadata": {},
            "outputs": [
                {
                    "data": {
                        "text/plain": "0"
                    },
                    "execution_count": 14,
                    "metadata": {},
                    "output_type": "execute_result"
                }
            ],
            "source": "sum(df.v_genero.apply(lambda x: 1 if type(x)!=float else 0))"
        },
        {
            "cell_type": "code",
            "execution_count": 15,
            "metadata": {},
            "outputs": [
                {
                    "data": {
                        "text/plain": "47.0    26374\n20.0    24148\n50.0    19545\n12.0    17772\n16.0    17513\n21.0    17259\n30.0     2571\n49.0     2557\n48.0     2480\n3.0       434\n2.0       276\n1.0       143\nName: v_genero, dtype: int64"
                    },
                    "execution_count": 15,
                    "metadata": {},
                    "output_type": "execute_result"
                }
            ],
            "source": "df.v_genero.value_counts()"
        },
        {
            "cell_type": "markdown",
            "metadata": {},
            "source": "### H) Elimina los registros que no tengas un \"genero\" v\u00e1lido, es decir contenga letras en los valores"
        },
        {
            "cell_type": "code",
            "execution_count": 16,
            "metadata": {},
            "outputs": [],
            "source": "#No hay valores con esas caracteristicas y si los hay se eliminaron en incisos anterionres"
        },
        {
            "cell_type": "markdown",
            "metadata": {},
            "source": "### I) Haz una limpieza de la variable \"name\" , elimina caracteres especiales y todo debe estar en min\u00fasculas"
        },
        {
            "cell_type": "code",
            "execution_count": 17,
            "metadata": {},
            "outputs": [],
            "source": "def clean_text(text, pattern=\"[^a-zA-Z0-9 ]\"):\n    cleaned_text = unicodedata.normalize('NFD', text).encode('ascii', 'ignore')\n    cleaned_text = re.sub(pattern, \" \", cleaned_text.decode(\"utf-8\"), flags=re.UNICODE)\n    cleaned_text = u' '.join(cleaned_text.lower().strip().split())\n    return cleaned_text"
        },
        {
            "cell_type": "code",
            "execution_count": 18,
            "metadata": {
                "scrolled": true
            },
            "outputs": [],
            "source": "df.t_name = df.t_name.apply(lambda x: clean_text(x))"
        },
        {
            "cell_type": "markdown",
            "metadata": {},
            "source": "### J) De la variable \"artist\" selecciona solo al primer artista que aparezca en la lista adem\u00e1s de eliminar caracteres especiales"
        },
        {
            "cell_type": "code",
            "execution_count": 19,
            "metadata": {},
            "outputs": [],
            "source": "df.t_artists = df.t_artists.apply(lambda x: clean_text(ast.literal_eval(x)[0]))"
        },
        {
            "cell_type": "markdown",
            "metadata": {},
            "source": "### K) Normaliza la variable \"genero\" de tal forma que obtengas solo 8 categor\u00edas"
        },
        {
            "cell_type": "code",
            "execution_count": 20,
            "metadata": {},
            "outputs": [
                {
                    "data": {
                        "text/plain": "47.0    26374\n20.0    24148\n50.0    19545\n12.0    17772\n16.0    17513\n21.0    17259\n30.0     2571\n49.0     2557\n48.0     2480\n3.0       434\n2.0       276\n1.0       143\nName: v_genero, dtype: int64"
                    },
                    "execution_count": 20,
                    "metadata": {},
                    "output_type": "execute_result"
                }
            ],
            "source": "df.v_genero.value_counts()"
        },
        {
            "cell_type": "code",
            "execution_count": 21,
            "metadata": {},
            "outputs": [
                {
                    "data": {
                        "text/plain": "47.0    26374\n20.0    24148\n50.0    19545\n12.0    17772\n16.0    17513\n21.0    17259\notro     5890\n30.0     2571\nName: v_genero, dtype: int64"
                    },
                    "execution_count": 21,
                    "metadata": {},
                    "output_type": "execute_result"
                }
            ],
            "source": "aux = dict(zip(df[\"v_genero\"].value_counts(1).index[-5:].tolist(),[\"otro\"]*5))\ndf[\"v_genero\"].replace(aux).value_counts()"
        },
        {
            "cell_type": "code",
            "execution_count": 22,
            "metadata": {},
            "outputs": [
                {
                    "data": {
                        "text/plain": "8"
                    },
                    "execution_count": 22,
                    "metadata": {},
                    "output_type": "execute_result"
                }
            ],
            "source": "len(df[\"v_genero\"].replace(aux).value_counts())"
        },
        {
            "cell_type": "markdown",
            "metadata": {},
            "source": "### L) A\u00f1ade las siguientes columnas a tu tabla base: zip, lat, lng, city, state name utilizando la tabla zips practica"
        },
        {
            "cell_type": "code",
            "execution_count": 23,
            "metadata": {},
            "outputs": [],
            "source": "\nbody = client_8ab9e345e41b4561ab7096742fcbbe1b.get_object(Bucket='diplomadocienciadedatos-donotdelete-pr-ni0xvyxds7qosj',Key='zips_practica.csv')['Body']\n# add missing __iter__ method, so pandas accepts body as file-like object\nif not hasattr(body, \"__iter__\"): body.__iter__ = types.MethodType( __iter__, body )\n\ndf_zips = pd.read_csv(body)\n"
        },
        {
            "cell_type": "code",
            "execution_count": 24,
            "metadata": {},
            "outputs": [],
            "source": "df.rename(columns={'v_zip Code': 'zip'}, inplace=True)"
        },
        {
            "cell_type": "code",
            "execution_count": 25,
            "metadata": {},
            "outputs": [],
            "source": "df = df.merge(df_zips[['zip', 'lat', 'lng', 'city', \"state_name\"]], on='zip', how='left')"
        },
        {
            "cell_type": "code",
            "execution_count": 26,
            "metadata": {
                "scrolled": true
            },
            "outputs": [],
            "source": "df.rename(columns={'zip':'v_zip', 'lat':'c_lat', 'lng':'c_lng', 'city':'v_city', 'state_name':'v_state_name'}, inplace=True)"
        },
        {
            "cell_type": "markdown",
            "metadata": {},
            "source": "### M) Convierte las variables \"lat\" y \"lng\" en tipo flotante y valida que la informaci\u00f3n sea consistente."
        },
        {
            "cell_type": "code",
            "execution_count": 27,
            "metadata": {},
            "outputs": [
                {
                    "data": {
                        "text/plain": "c_lat    float64\nc_lng    float64\ndtype: object"
                    },
                    "execution_count": 27,
                    "metadata": {},
                    "output_type": "execute_result"
                }
            ],
            "source": "df[['c_lat','c_lng']].dtypes"
        },
        {
            "cell_type": "markdown",
            "metadata": {},
            "source": "### N) De la variable \"city\" y \"state\" elimina los d\u00edgitos que se encuentran dentro de las cadenas de texto"
        },
        {
            "cell_type": "code",
            "execution_count": 28,
            "metadata": {},
            "outputs": [],
            "source": "df.v_city = df.v_city.apply(lambda x: re.sub(r'[0-9]', '', x))"
        },
        {
            "cell_type": "code",
            "execution_count": 29,
            "metadata": {},
            "outputs": [],
            "source": "df.v_state_name = df.v_state_name.apply(lambda x: re.sub(r'[0-9]', '', x))"
        },
        {
            "cell_type": "markdown",
            "metadata": {},
            "source": "### O) Crea una nueva variable llamada \"state\" que este conformada por \"city\u201d,\u201dstate name\""
        },
        {
            "cell_type": "code",
            "execution_count": 30,
            "metadata": {},
            "outputs": [],
            "source": "df['v_state'] = df.v_city + ', ' +  df.v_state_name"
        },
        {
            "cell_type": "markdown",
            "metadata": {},
            "source": "### P) Los valores de la nueva variable \"state\" modificalos de cierta forma que todas sean min\u00fasculas y sin acentos"
        },
        {
            "cell_type": "code",
            "execution_count": 31,
            "metadata": {},
            "outputs": [],
            "source": "df.v_state = df.v_state.apply(lambda x: clean_text(x))"
        },
        {
            "cell_type": "markdown",
            "metadata": {},
            "source": "### Q) Convierte los valores en la variable \"release date\" a tipo datetime , adem\u00e1s haz el conteo de las que no tienen la estructura necesaria para ser convertida en datetime y elimina esos registros"
        },
        {
            "cell_type": "code",
            "execution_count": 32,
            "metadata": {},
            "outputs": [],
            "source": "df.d_release_date = pd.to_datetime(df.d_release_date)"
        },
        {
            "cell_type": "markdown",
            "metadata": {},
            "source": "## Parte 2"
        },
        {
            "cell_type": "markdown",
            "metadata": {},
            "source": "### A) Obten un DataFrame donde se muestre el conteo de registros por g\u00e9nero"
        },
        {
            "cell_type": "code",
            "execution_count": 33,
            "metadata": {},
            "outputs": [
                {
                    "data": {
                        "text/html": "<div>\n<style scoped>\n    .dataframe tbody tr th:only-of-type {\n        vertical-align: middle;\n    }\n\n    .dataframe tbody tr th {\n        vertical-align: top;\n    }\n\n    .dataframe thead th {\n        text-align: right;\n    }\n</style>\n<table border=\"1\" class=\"dataframe\">\n  <thead>\n    <tr style=\"text-align: right;\">\n      <th></th>\n      <th>conteo</th>\n    </tr>\n    <tr>\n      <th>v_genero</th>\n      <th></th>\n    </tr>\n  </thead>\n  <tbody>\n    <tr>\n      <th>1.0</th>\n      <td>143</td>\n    </tr>\n    <tr>\n      <th>2.0</th>\n      <td>276</td>\n    </tr>\n    <tr>\n      <th>3.0</th>\n      <td>434</td>\n    </tr>\n    <tr>\n      <th>12.0</th>\n      <td>17772</td>\n    </tr>\n    <tr>\n      <th>16.0</th>\n      <td>17513</td>\n    </tr>\n    <tr>\n      <th>20.0</th>\n      <td>24148</td>\n    </tr>\n    <tr>\n      <th>21.0</th>\n      <td>17259</td>\n    </tr>\n    <tr>\n      <th>30.0</th>\n      <td>2571</td>\n    </tr>\n    <tr>\n      <th>47.0</th>\n      <td>26374</td>\n    </tr>\n    <tr>\n      <th>48.0</th>\n      <td>2480</td>\n    </tr>\n    <tr>\n      <th>49.0</th>\n      <td>2557</td>\n    </tr>\n    <tr>\n      <th>50.0</th>\n      <td>19545</td>\n    </tr>\n  </tbody>\n</table>\n</div>",
                        "text/plain": "          conteo\nv_genero        \n1.0          143\n2.0          276\n3.0          434\n12.0       17772\n16.0       17513\n20.0       24148\n21.0       17259\n30.0        2571\n47.0       26374\n48.0        2480\n49.0        2557\n50.0       19545"
                    },
                    "execution_count": 33,
                    "metadata": {},
                    "output_type": "execute_result"
                }
            ],
            "source": "df[['id', 'v_genero']].groupby('v_genero').count().rename(columns={'id': 'conteo'})"
        },
        {
            "cell_type": "markdown",
            "metadata": {},
            "source": "### B) Genera una nueva variable que se llame \"duration minutos\" que sea el valor de la variable \"duration ms\" en minutos"
        },
        {
            "cell_type": "code",
            "execution_count": 34,
            "metadata": {},
            "outputs": [],
            "source": "df[\"c_duration_minutos\"] = df['c_duration_ms']/60000"
        },
        {
            "cell_type": "markdown",
            "metadata": {},
            "source": "### C) \u00bfCu\u00e1les son las 10 canciones m\u00e1s populares?"
        },
        {
            "cell_type": "code",
            "execution_count": 35,
            "metadata": {},
            "outputs": [
                {
                    "data": {
                        "text/html": "<div>\n<style scoped>\n    .dataframe tbody tr th:only-of-type {\n        vertical-align: middle;\n    }\n\n    .dataframe tbody tr th {\n        vertical-align: top;\n    }\n\n    .dataframe thead th {\n        text-align: right;\n    }\n</style>\n<table border=\"1\" class=\"dataframe\">\n  <thead>\n    <tr style=\"text-align: right;\">\n      <th></th>\n      <th>c_popularity</th>\n      <th>t_name</th>\n    </tr>\n  </thead>\n  <tbody>\n    <tr>\n      <th>53679</th>\n      <td>100.0</td>\n      <td>blinding lights</td>\n    </tr>\n    <tr>\n      <th>53677</th>\n      <td>99.0</td>\n      <td>rockstar feat roddy ricch</td>\n    </tr>\n    <tr>\n      <th>53686</th>\n      <td>97.0</td>\n      <td>death bed coffee for your head feat beabadoobee</td>\n    </tr>\n    <tr>\n      <th>53678</th>\n      <td>96.0</td>\n      <td>the scotts</td>\n    </tr>\n    <tr>\n      <th>53582</th>\n      <td>95.0</td>\n      <td>supalonely</td>\n    </tr>\n    <tr>\n      <th>53590</th>\n      <td>95.0</td>\n      <td>ily i love you baby feat emilee</td>\n    </tr>\n    <tr>\n      <th>53578</th>\n      <td>95.0</td>\n      <td>the box</td>\n    </tr>\n    <tr>\n      <th>53683</th>\n      <td>95.0</td>\n      <td>toosie slide</td>\n    </tr>\n    <tr>\n      <th>53689</th>\n      <td>94.0</td>\n      <td>rain on me with ariana grande</td>\n    </tr>\n    <tr>\n      <th>53688</th>\n      <td>94.0</td>\n      <td>gooba</td>\n    </tr>\n  </tbody>\n</table>\n</div>",
                        "text/plain": "       c_popularity                                           t_name\n53679         100.0                                  blinding lights\n53677          99.0                        rockstar feat roddy ricch\n53686          97.0  death bed coffee for your head feat beabadoobee\n53678          96.0                                       the scotts\n53582          95.0                                       supalonely\n53590          95.0                  ily i love you baby feat emilee\n53578          95.0                                          the box\n53683          95.0                                     toosie slide\n53689          94.0                    rain on me with ariana grande\n53688          94.0                                            gooba"
                    },
                    "execution_count": 35,
                    "metadata": {},
                    "output_type": "execute_result"
                }
            ],
            "source": "df[['c_popularity', 't_name']].sort_values('c_popularity', ascending=False).head(10)"
        },
        {
            "cell_type": "code",
            "execution_count": 36,
            "metadata": {},
            "outputs": [
                {
                    "data": {
                        "text/plain": "10                                             forecast\n11                                              granada\n12                                      address unknown\n13    concerto in the italian style in f major bwv 9...\n14                                        mambo retozon\n15                                                     \n16                    marmaduke short take 3 new take 4\n17                                   everybody s rockin\n18          all this and heaven 2015 remastered version\n19                                        getting drunk\nName: t_name, dtype: object"
                    },
                    "execution_count": 36,
                    "metadata": {},
                    "output_type": "execute_result"
                }
            ],
            "source": "df.t_name[10:20]"
        },
        {
            "cell_type": "markdown",
            "metadata": {},
            "source": "### D) \u00bfC\u00faal es el promedio de duraci\u00f3n en minutos y milisegundos?"
        },
        {
            "cell_type": "code",
            "execution_count": 37,
            "metadata": {},
            "outputs": [
                {
                    "data": {
                        "text/plain": "c_duration_minutos         3.840535\nc_duration_ms         230432.114380\ndtype: float64"
                    },
                    "execution_count": 37,
                    "metadata": {},
                    "output_type": "execute_result"
                }
            ],
            "source": "df[['c_duration_minutos', 'c_duration_ms']].mean()"
        },
        {
            "cell_type": "markdown",
            "metadata": {},
            "source": "### E) \u00bfCu\u00e1l es el promedio y conteo de \"energy\" por \"genero\"?"
        },
        {
            "cell_type": "code",
            "execution_count": 38,
            "metadata": {},
            "outputs": [
                {
                    "data": {
                        "text/html": "<div>\n<style scoped>\n    .dataframe tbody tr th:only-of-type {\n        vertical-align: middle;\n    }\n\n    .dataframe tbody tr th {\n        vertical-align: top;\n    }\n\n    .dataframe thead tr th {\n        text-align: left;\n    }\n\n    .dataframe thead tr:last-of-type th {\n        text-align: right;\n    }\n</style>\n<table border=\"1\" class=\"dataframe\">\n  <thead>\n    <tr>\n      <th></th>\n      <th colspan=\"2\" halign=\"left\">c_energy</th>\n    </tr>\n    <tr>\n      <th></th>\n      <th>mean</th>\n      <th>count</th>\n    </tr>\n    <tr>\n      <th>v_genero</th>\n      <th></th>\n      <th></th>\n    </tr>\n  </thead>\n  <tbody>\n    <tr>\n      <th>1.0</th>\n      <td>0.496108</td>\n      <td>143</td>\n    </tr>\n    <tr>\n      <th>2.0</th>\n      <td>0.463160</td>\n      <td>276</td>\n    </tr>\n    <tr>\n      <th>3.0</th>\n      <td>0.475278</td>\n      <td>434</td>\n    </tr>\n    <tr>\n      <th>12.0</th>\n      <td>0.487540</td>\n      <td>17772</td>\n    </tr>\n    <tr>\n      <th>16.0</th>\n      <td>0.481487</td>\n      <td>17513</td>\n    </tr>\n    <tr>\n      <th>20.0</th>\n      <td>0.484086</td>\n      <td>24148</td>\n    </tr>\n    <tr>\n      <th>21.0</th>\n      <td>0.483960</td>\n      <td>17259</td>\n    </tr>\n    <tr>\n      <th>30.0</th>\n      <td>0.483541</td>\n      <td>2571</td>\n    </tr>\n    <tr>\n      <th>47.0</th>\n      <td>0.486945</td>\n      <td>26374</td>\n    </tr>\n    <tr>\n      <th>48.0</th>\n      <td>0.487428</td>\n      <td>2480</td>\n    </tr>\n    <tr>\n      <th>49.0</th>\n      <td>0.482562</td>\n      <td>2557</td>\n    </tr>\n    <tr>\n      <th>50.0</th>\n      <td>0.487854</td>\n      <td>19545</td>\n    </tr>\n  </tbody>\n</table>\n</div>",
                        "text/plain": "          c_energy       \n              mean  count\nv_genero                 \n1.0       0.496108    143\n2.0       0.463160    276\n3.0       0.475278    434\n12.0      0.487540  17772\n16.0      0.481487  17513\n20.0      0.484086  24148\n21.0      0.483960  17259\n30.0      0.483541   2571\n47.0      0.486945  26374\n48.0      0.487428   2480\n49.0      0.482562   2557\n50.0      0.487854  19545"
                    },
                    "execution_count": 38,
                    "metadata": {},
                    "output_type": "execute_result"
                }
            ],
            "source": "df[['c_energy', 'v_genero']].groupby('v_genero').agg({'c_energy':['mean','count']})"
        },
        {
            "cell_type": "markdown",
            "metadata": {},
            "source": "### F) \u00bfQu\u00e9 canci\u00f3n tiene el \"loudness\" m\u00e1s bajo y c\u00faal es la canci\u00f3n que tiene el \"loud-ness\" m\u00e1s alto?"
        },
        {
            "cell_type": "code",
            "execution_count": 39,
            "metadata": {},
            "outputs": [
                {
                    "name": "stdout",
                    "output_type": "stream",
                    "text": "cannci\u00f3n con loudness m\u00e1s alto:  ['sold']\n"
                }
            ],
            "source": "print('cannci\u00f3n con loudness m\u00e1s alto: ', df[['c_loudness','t_name']].sort_values('c_loudness',ascending=False).head(1)['t_name'].tolist())"
        },
        {
            "cell_type": "code",
            "execution_count": 40,
            "metadata": {},
            "outputs": [
                {
                    "name": "stdout",
                    "output_type": "stream",
                    "text": "cannci\u00f3n con loudness m\u00e1s bajo:  ['staggerlee has his day at the beach']\n"
                }
            ],
            "source": "print('cannci\u00f3n con loudness m\u00e1s bajo: ', df[['c_loudness','t_name']].sort_values('c_loudness').head(1)['t_name'].tolist())"
        },
        {
            "cell_type": "markdown",
            "metadata": {},
            "source": "### G) Obtenga los 10 percentiles de las variables continuas"
        },
        {
            "cell_type": "code",
            "execution_count": 41,
            "metadata": {},
            "outputs": [
                {
                    "data": {
                        "text/html": "<div>\n<style scoped>\n    .dataframe tbody tr th:only-of-type {\n        vertical-align: middle;\n    }\n\n    .dataframe tbody tr th {\n        vertical-align: top;\n    }\n\n    .dataframe thead th {\n        text-align: right;\n    }\n</style>\n<table border=\"1\" class=\"dataframe\">\n  <thead>\n    <tr style=\"text-align: right;\">\n      <th></th>\n      <th>c_acousticness</th>\n      <th>c_danceability</th>\n      <th>c_duration_ms</th>\n      <th>c_energy</th>\n      <th>c_instrumentalness</th>\n      <th>c_liveness</th>\n      <th>c_loudness</th>\n      <th>c_mode</th>\n      <th>c_popularity</th>\n      <th>c_speechiness</th>\n      <th>c_tempo</th>\n      <th>c_valence</th>\n      <th>c_lat</th>\n      <th>c_lng</th>\n      <th>c_duration_minutos</th>\n    </tr>\n  </thead>\n  <tbody>\n    <tr>\n      <th>0.1</th>\n      <td>0.009561</td>\n      <td>0.301</td>\n      <td>137600.0</td>\n      <td>0.130</td>\n      <td>0.000000</td>\n      <td>0.0728</td>\n      <td>-18.9270</td>\n      <td>0.0</td>\n      <td>0.0</td>\n      <td>0.0301</td>\n      <td>79.5131</td>\n      <td>0.163</td>\n      <td>32.092020</td>\n      <td>-115.599290</td>\n      <td>2.293333</td>\n    </tr>\n    <tr>\n      <th>0.2</th>\n      <td>0.055900</td>\n      <td>0.386</td>\n      <td>162093.0</td>\n      <td>0.219</td>\n      <td>0.000000</td>\n      <td>0.0912</td>\n      <td>-15.6518</td>\n      <td>0.0</td>\n      <td>5.0</td>\n      <td>0.0334</td>\n      <td>89.1440</td>\n      <td>0.275</td>\n      <td>34.341250</td>\n      <td>-99.675240</td>\n      <td>2.701550</td>\n    </tr>\n    <tr>\n      <th>0.3</th>\n      <td>0.153000</td>\n      <td>0.449</td>\n      <td>178333.0</td>\n      <td>0.301</td>\n      <td>0.000002</td>\n      <td>0.1050</td>\n      <td>-13.5560</td>\n      <td>1.0</td>\n      <td>19.0</td>\n      <td>0.0366</td>\n      <td>97.3370</td>\n      <td>0.371</td>\n      <td>36.438142</td>\n      <td>-95.610210</td>\n      <td>2.972217</td>\n    </tr>\n    <tr>\n      <th>0.4</th>\n      <td>0.305000</td>\n      <td>0.502</td>\n      <td>192406.4</td>\n      <td>0.387</td>\n      <td>0.000021</td>\n      <td>0.1160</td>\n      <td>-11.9710</td>\n      <td>1.0</td>\n      <td>27.0</td>\n      <td>0.0403</td>\n      <td>106.0004</td>\n      <td>0.465</td>\n      <td>38.167360</td>\n      <td>-91.919890</td>\n      <td>3.206773</td>\n    </tr>\n    <tr>\n      <th>0.5</th>\n      <td>0.504000</td>\n      <td>0.550</td>\n      <td>207434.5</td>\n      <td>0.476</td>\n      <td>0.000198</td>\n      <td>0.1350</td>\n      <td>-10.5340</td>\n      <td>1.0</td>\n      <td>34.0</td>\n      <td>0.0450</td>\n      <td>114.7495</td>\n      <td>0.548</td>\n      <td>39.509060</td>\n      <td>-88.212620</td>\n      <td>3.457242</td>\n    </tr>\n    <tr>\n      <th>0.6</th>\n      <td>0.696000</td>\n      <td>0.596</td>\n      <td>226227.0</td>\n      <td>0.564</td>\n      <td>0.002040</td>\n      <td>0.1670</td>\n      <td>-9.1870</td>\n      <td>1.0</td>\n      <td>40.0</td>\n      <td>0.0521</td>\n      <td>122.5690</td>\n      <td>0.630</td>\n      <td>40.606020</td>\n      <td>-84.587938</td>\n      <td>3.770450</td>\n    </tr>\n    <tr>\n      <th>0.7</th>\n      <td>0.837000</td>\n      <td>0.643</td>\n      <td>248596.1</td>\n      <td>0.659</td>\n      <td>0.024000</td>\n      <td>0.2220</td>\n      <td>-7.8420</td>\n      <td>1.0</td>\n      <td>46.0</td>\n      <td>0.0646</td>\n      <td>130.5304</td>\n      <td>0.711</td>\n      <td>41.574410</td>\n      <td>-81.656810</td>\n      <td>4.143268</td>\n    </tr>\n    <tr>\n      <th>0.8</th>\n      <td>0.936000</td>\n      <td>0.696</td>\n      <td>278786.2</td>\n      <td>0.754</td>\n      <td>0.289000</td>\n      <td>0.3040</td>\n      <td>-6.4980</td>\n      <td>1.0</td>\n      <td>52.0</td>\n      <td>0.0924</td>\n      <td>140.9730</td>\n      <td>0.795</td>\n      <td>42.762572</td>\n      <td>-78.307000</td>\n      <td>4.646437</td>\n    </tr>\n    <tr>\n      <th>0.9</th>\n      <td>0.984000</td>\n      <td>0.760</td>\n      <td>334185.6</td>\n      <td>0.864</td>\n      <td>0.832000</td>\n      <td>0.4060</td>\n      <td>-5.0450</td>\n      <td>1.0</td>\n      <td>61.0</td>\n      <td>0.1900</td>\n      <td>161.8349</td>\n      <td>0.888</td>\n      <td>44.722860</td>\n      <td>-74.599710</td>\n      <td>5.569760</td>\n    </tr>\n  </tbody>\n</table>\n</div>",
                        "text/plain": "     c_acousticness  c_danceability  c_duration_ms  c_energy  \\\n0.1        0.009561           0.301       137600.0     0.130   \n0.2        0.055900           0.386       162093.0     0.219   \n0.3        0.153000           0.449       178333.0     0.301   \n0.4        0.305000           0.502       192406.4     0.387   \n0.5        0.504000           0.550       207434.5     0.476   \n0.6        0.696000           0.596       226227.0     0.564   \n0.7        0.837000           0.643       248596.1     0.659   \n0.8        0.936000           0.696       278786.2     0.754   \n0.9        0.984000           0.760       334185.6     0.864   \n\n     c_instrumentalness  c_liveness  c_loudness  c_mode  c_popularity  \\\n0.1            0.000000      0.0728    -18.9270     0.0           0.0   \n0.2            0.000000      0.0912    -15.6518     0.0           5.0   \n0.3            0.000002      0.1050    -13.5560     1.0          19.0   \n0.4            0.000021      0.1160    -11.9710     1.0          27.0   \n0.5            0.000198      0.1350    -10.5340     1.0          34.0   \n0.6            0.002040      0.1670     -9.1870     1.0          40.0   \n0.7            0.024000      0.2220     -7.8420     1.0          46.0   \n0.8            0.289000      0.3040     -6.4980     1.0          52.0   \n0.9            0.832000      0.4060     -5.0450     1.0          61.0   \n\n     c_speechiness   c_tempo  c_valence      c_lat       c_lng  \\\n0.1         0.0301   79.5131      0.163  32.092020 -115.599290   \n0.2         0.0334   89.1440      0.275  34.341250  -99.675240   \n0.3         0.0366   97.3370      0.371  36.438142  -95.610210   \n0.4         0.0403  106.0004      0.465  38.167360  -91.919890   \n0.5         0.0450  114.7495      0.548  39.509060  -88.212620   \n0.6         0.0521  122.5690      0.630  40.606020  -84.587938   \n0.7         0.0646  130.5304      0.711  41.574410  -81.656810   \n0.8         0.0924  140.9730      0.795  42.762572  -78.307000   \n0.9         0.1900  161.8349      0.888  44.722860  -74.599710   \n\n     c_duration_minutos  \n0.1            2.293333  \n0.2            2.701550  \n0.3            2.972217  \n0.4            3.206773  \n0.5            3.457242  \n0.6            3.770450  \n0.7            4.143268  \n0.8            4.646437  \n0.9            5.569760  "
                    },
                    "execution_count": 41,
                    "metadata": {},
                    "output_type": "execute_result"
                }
            ],
            "source": "df[df.filter(like=\"c_\").columns.tolist()].quantile([.1, .2,.3,.4,.5,.6,.7,.8,.9])"
        },
        {
            "cell_type": "markdown",
            "metadata": {},
            "source": "# FIN"
        }
    ],
    "metadata": {
        "kernelspec": {
            "display_name": "Python 3.7",
            "language": "python",
            "name": "python3"
        },
        "language_info": {
            "codemirror_mode": {
                "name": "ipython",
                "version": 3
            },
            "file_extension": ".py",
            "mimetype": "text/x-python",
            "name": "python",
            "nbconvert_exporter": "python",
            "pygments_lexer": "ipython3",
            "version": "3.7.10"
        }
    },
    "nbformat": 4,
    "nbformat_minor": 1
}